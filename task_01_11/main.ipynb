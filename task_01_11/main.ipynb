{
 "cells": [
  {
   "cell_type": "markdown",
   "metadata": {},
   "source": [
    "### Вариант 11.\n",
    "    1. Найти количество и названия туроператоров, продающих путёвки в города Псков и Ярославль.\n",
    "    2. Построить круговую диаграмму, отображающую количество путёвок в города, чьё название заканчивается на букву \"ь\".\n",
    "    3. Построить диаграмму, показывающую общую стоимость всех путёвок проданных туроператорами: Традиции, Иллюзия, Даль, Восторг."
   ]
  },
  {
   "cell_type": "code",
   "execution_count": 49,
   "metadata": {
    "ExecuteTime": {
     "end_time": "2025-03-04T06:21:21.415473Z",
     "start_time": "2025-03-04T06:21:21.413204Z"
    }
   },
   "outputs": [],
   "source": [
    "import pandas as pd\n",
    "import csv"
   ]
  },
  {
   "cell_type": "code",
   "execution_count": 50,
   "metadata": {
    "ExecuteTime": {
     "end_time": "2025-03-04T06:21:21.466312Z",
     "start_time": "2025-03-04T06:21:21.459024Z"
    }
   },
   "outputs": [],
   "source": [
    "sale_of_tour_packages = pd.read_csv(\"sale_of_tour_packages.csv\", sep=\";\")"
   ]
  },
  {
   "cell_type": "code",
   "execution_count": 51,
   "metadata": {
    "ExecuteTime": {
     "end_time": "2025-03-04T06:21:21.515264Z",
     "start_time": "2025-03-04T06:21:21.507880Z"
    }
   },
   "outputs": [
    {
     "data": {
      "text/html": [
       "<div>\n",
       "<style scoped>\n",
       "    .dataframe tbody tr th:only-of-type {\n",
       "        vertical-align: middle;\n",
       "    }\n",
       "\n",
       "    .dataframe tbody tr th {\n",
       "        vertical-align: top;\n",
       "    }\n",
       "\n",
       "    .dataframe thead th {\n",
       "        text-align: right;\n",
       "    }\n",
       "</style>\n",
       "<table border=\"1\" class=\"dataframe\">\n",
       "  <thead>\n",
       "    <tr style=\"text-align: right;\">\n",
       "      <th></th>\n",
       "      <th>ID операции</th>\n",
       "      <th>Дата</th>\n",
       "      <th>ID тура</th>\n",
       "      <th>ID туроператора</th>\n",
       "      <th>Количество проданных путёвок</th>\n",
       "    </tr>\n",
       "  </thead>\n",
       "  <tbody>\n",
       "    <tr>\n",
       "      <th>0</th>\n",
       "      <td>OP0001</td>\n",
       "      <td>01.01.2022</td>\n",
       "      <td>R1120</td>\n",
       "      <td>T105</td>\n",
       "      <td>15</td>\n",
       "    </tr>\n",
       "    <tr>\n",
       "      <th>1</th>\n",
       "      <td>OP0002</td>\n",
       "      <td>01.01.2022</td>\n",
       "      <td>R1108</td>\n",
       "      <td>T100</td>\n",
       "      <td>14</td>\n",
       "    </tr>\n",
       "    <tr>\n",
       "      <th>2</th>\n",
       "      <td>OP0003</td>\n",
       "      <td>01.01.2022</td>\n",
       "      <td>R1128</td>\n",
       "      <td>T115</td>\n",
       "      <td>13</td>\n",
       "    </tr>\n",
       "    <tr>\n",
       "      <th>3</th>\n",
       "      <td>OP0004</td>\n",
       "      <td>01.01.2022</td>\n",
       "      <td>R1104</td>\n",
       "      <td>T110</td>\n",
       "      <td>5</td>\n",
       "    </tr>\n",
       "    <tr>\n",
       "      <th>4</th>\n",
       "      <td>OP0005</td>\n",
       "      <td>01.01.2022</td>\n",
       "      <td>R1108</td>\n",
       "      <td>T100</td>\n",
       "      <td>11</td>\n",
       "    </tr>\n",
       "    <tr>\n",
       "      <th>...</th>\n",
       "      <td>...</td>\n",
       "      <td>...</td>\n",
       "      <td>...</td>\n",
       "      <td>...</td>\n",
       "      <td>...</td>\n",
       "    </tr>\n",
       "    <tr>\n",
       "      <th>4996</th>\n",
       "      <td>OP4997</td>\n",
       "      <td>31.03.2022</td>\n",
       "      <td>R1126</td>\n",
       "      <td>T103</td>\n",
       "      <td>20</td>\n",
       "    </tr>\n",
       "    <tr>\n",
       "      <th>4997</th>\n",
       "      <td>OP4998</td>\n",
       "      <td>31.03.2022</td>\n",
       "      <td>R1109</td>\n",
       "      <td>T107</td>\n",
       "      <td>10</td>\n",
       "    </tr>\n",
       "    <tr>\n",
       "      <th>4998</th>\n",
       "      <td>OP4999</td>\n",
       "      <td>31.03.2022</td>\n",
       "      <td>R1130</td>\n",
       "      <td>T108</td>\n",
       "      <td>19</td>\n",
       "    </tr>\n",
       "    <tr>\n",
       "      <th>4999</th>\n",
       "      <td>OP5000</td>\n",
       "      <td>31.03.2022</td>\n",
       "      <td>R1132</td>\n",
       "      <td>T110</td>\n",
       "      <td>20</td>\n",
       "    </tr>\n",
       "    <tr>\n",
       "      <th>5000</th>\n",
       "      <td>OP5001</td>\n",
       "      <td>31.03.2022</td>\n",
       "      <td>R1108</td>\n",
       "      <td>T118</td>\n",
       "      <td>5</td>\n",
       "    </tr>\n",
       "  </tbody>\n",
       "</table>\n",
       "<p>5001 rows × 5 columns</p>\n",
       "</div>"
      ],
      "text/plain": [
       "     ID операции        Дата ID тура ID туроператора  \\\n",
       "0         OP0001  01.01.2022   R1120            T105   \n",
       "1         OP0002  01.01.2022   R1108            T100   \n",
       "2         OP0003  01.01.2022   R1128            T115   \n",
       "3         OP0004  01.01.2022   R1104            T110   \n",
       "4         OP0005  01.01.2022   R1108            T100   \n",
       "...          ...         ...     ...             ...   \n",
       "4996      OP4997  31.03.2022   R1126            T103   \n",
       "4997      OP4998  31.03.2022   R1109            T107   \n",
       "4998      OP4999  31.03.2022   R1130            T108   \n",
       "4999      OP5000  31.03.2022   R1132            T110   \n",
       "5000      OP5001  31.03.2022   R1108            T118   \n",
       "\n",
       "      Количество проданных путёвок  \n",
       "0                               15  \n",
       "1                               14  \n",
       "2                               13  \n",
       "3                                5  \n",
       "4                               11  \n",
       "...                            ...  \n",
       "4996                            20  \n",
       "4997                            10  \n",
       "4998                            19  \n",
       "4999                            20  \n",
       "5000                             5  \n",
       "\n",
       "[5001 rows x 5 columns]"
      ]
     },
     "execution_count": 51,
     "metadata": {},
     "output_type": "execute_result"
    }
   ],
   "source": [
    "sale_of_tour_packages"
   ]
  },
  {
   "cell_type": "code",
   "execution_count": 52,
   "metadata": {
    "ExecuteTime": {
     "end_time": "2025-03-04T06:21:21.579616Z",
     "start_time": "2025-03-04T06:21:21.576870Z"
    },
    "notebookRunGroups": {
     "groupValue": "2"
    }
   },
   "outputs": [],
   "source": [
    "travel_agents = pd.read_csv(\"travel_agents.csv\", sep=\";\")"
   ]
  },
  {
   "cell_type": "code",
   "execution_count": 53,
   "metadata": {
    "ExecuteTime": {
     "end_time": "2025-03-04T06:21:21.628327Z",
     "start_time": "2025-03-04T06:21:21.622137Z"
    }
   },
   "outputs": [
    {
     "data": {
      "text/html": [
       "<div>\n",
       "<style scoped>\n",
       "    .dataframe tbody tr th:only-of-type {\n",
       "        vertical-align: middle;\n",
       "    }\n",
       "\n",
       "    .dataframe tbody tr th {\n",
       "        vertical-align: top;\n",
       "    }\n",
       "\n",
       "    .dataframe thead th {\n",
       "        text-align: right;\n",
       "    }\n",
       "</style>\n",
       "<table border=\"1\" class=\"dataframe\">\n",
       "  <thead>\n",
       "    <tr style=\"text-align: right;\">\n",
       "      <th></th>\n",
       "      <th>ID туроператора</th>\n",
       "      <th>Название</th>\n",
       "      <th>Адрес</th>\n",
       "    </tr>\n",
       "  </thead>\n",
       "  <tbody>\n",
       "    <tr>\n",
       "      <th>0</th>\n",
       "      <td>T100</td>\n",
       "      <td>Путешественник</td>\n",
       "      <td>Айвазовского ул, 53</td>\n",
       "    </tr>\n",
       "    <tr>\n",
       "      <th>1</th>\n",
       "      <td>T101</td>\n",
       "      <td>Вокруг света</td>\n",
       "      <td>Серафимы Дерябиной ул, 24</td>\n",
       "    </tr>\n",
       "    <tr>\n",
       "      <th>2</th>\n",
       "      <td>T102</td>\n",
       "      <td>Традиции</td>\n",
       "      <td>Токарей ул, 52</td>\n",
       "    </tr>\n",
       "    <tr>\n",
       "      <th>3</th>\n",
       "      <td>T103</td>\n",
       "      <td>Иллюзия</td>\n",
       "      <td>Космонавтов пр-кт, 104</td>\n",
       "    </tr>\n",
       "    <tr>\n",
       "      <th>4</th>\n",
       "      <td>T104</td>\n",
       "      <td>Даль</td>\n",
       "      <td>Ясная ул, 2</td>\n",
       "    </tr>\n",
       "    <tr>\n",
       "      <th>5</th>\n",
       "      <td>T105</td>\n",
       "      <td>Восторг</td>\n",
       "      <td>Высоцкого ул, 12</td>\n",
       "    </tr>\n",
       "    <tr>\n",
       "      <th>6</th>\n",
       "      <td>T106</td>\n",
       "      <td>Дивный мир</td>\n",
       "      <td>Таватуйская ул, 14</td>\n",
       "    </tr>\n",
       "    <tr>\n",
       "      <th>7</th>\n",
       "      <td>T107</td>\n",
       "      <td>Горизонт</td>\n",
       "      <td>Черепанова ул, 121</td>\n",
       "    </tr>\n",
       "    <tr>\n",
       "      <th>8</th>\n",
       "      <td>T108</td>\n",
       "      <td>Друг</td>\n",
       "      <td>Токарей ул, 59</td>\n",
       "    </tr>\n",
       "    <tr>\n",
       "      <th>9</th>\n",
       "      <td>T109</td>\n",
       "      <td>Палатка</td>\n",
       "      <td>Таватуйская ул, 14</td>\n",
       "    </tr>\n",
       "    <tr>\n",
       "      <th>10</th>\n",
       "      <td>T110</td>\n",
       "      <td>Релакс</td>\n",
       "      <td>Сигнальная ул, 45</td>\n",
       "    </tr>\n",
       "    <tr>\n",
       "      <th>11</th>\n",
       "      <td>T111</td>\n",
       "      <td>Мечта</td>\n",
       "      <td>Ровный пр-кт, 11</td>\n",
       "    </tr>\n",
       "    <tr>\n",
       "      <th>12</th>\n",
       "      <td>T112</td>\n",
       "      <td>Непознанное</td>\n",
       "      <td>Пролетарская ул, 23</td>\n",
       "    </tr>\n",
       "    <tr>\n",
       "      <th>13</th>\n",
       "      <td>T113</td>\n",
       "      <td>Все чудеса</td>\n",
       "      <td>Лиховицкая ул, 15</td>\n",
       "    </tr>\n",
       "    <tr>\n",
       "      <th>14</th>\n",
       "      <td>T114</td>\n",
       "      <td>Вместе</td>\n",
       "      <td>Крутой пр-кт, 24</td>\n",
       "    </tr>\n",
       "    <tr>\n",
       "      <th>15</th>\n",
       "      <td>T115</td>\n",
       "      <td>Оглянись</td>\n",
       "      <td>Дикая ул, 31</td>\n",
       "    </tr>\n",
       "    <tr>\n",
       "      <th>16</th>\n",
       "      <td>T116</td>\n",
       "      <td>Матрица</td>\n",
       "      <td>Восточная ул, 78</td>\n",
       "    </tr>\n",
       "    <tr>\n",
       "      <th>17</th>\n",
       "      <td>T117</td>\n",
       "      <td>Компас</td>\n",
       "      <td>Северная ул., 87</td>\n",
       "    </tr>\n",
       "    <tr>\n",
       "      <th>18</th>\n",
       "      <td>T118</td>\n",
       "      <td>Впервые</td>\n",
       "      <td>Лесная ул, 43</td>\n",
       "    </tr>\n",
       "    <tr>\n",
       "      <th>19</th>\n",
       "      <td>T119</td>\n",
       "      <td>Твой край</td>\n",
       "      <td>Веленский пр-кт, 1</td>\n",
       "    </tr>\n",
       "    <tr>\n",
       "      <th>20</th>\n",
       "      <td>T120</td>\n",
       "      <td>Ещё</td>\n",
       "      <td>Новая ул, 124</td>\n",
       "    </tr>\n",
       "  </tbody>\n",
       "</table>\n",
       "</div>"
      ],
      "text/plain": [
       "   ID туроператора        Название                      Адрес\n",
       "0             T100  Путешественник        Айвазовского ул, 53\n",
       "1             T101    Вокруг света  Серафимы Дерябиной ул, 24\n",
       "2             T102        Традиции             Токарей ул, 52\n",
       "3             T103         Иллюзия     Космонавтов пр-кт, 104\n",
       "4             T104            Даль                Ясная ул, 2\n",
       "5             T105         Восторг           Высоцкого ул, 12\n",
       "6             T106      Дивный мир         Таватуйская ул, 14\n",
       "7             T107        Горизонт         Черепанова ул, 121\n",
       "8             T108            Друг             Токарей ул, 59\n",
       "9             T109         Палатка         Таватуйская ул, 14\n",
       "10            T110          Релакс          Сигнальная ул, 45\n",
       "11            T111           Мечта           Ровный пр-кт, 11\n",
       "12            T112     Непознанное        Пролетарская ул, 23\n",
       "13            T113      Все чудеса          Лиховицкая ул, 15\n",
       "14            T114          Вместе           Крутой пр-кт, 24\n",
       "15            T115        Оглянись               Дикая ул, 31\n",
       "16            T116         Матрица           Восточная ул, 78\n",
       "17            T117          Компас           Северная ул., 87\n",
       "18            T118         Впервые              Лесная ул, 43\n",
       "19            T119       Твой край         Веленский пр-кт, 1\n",
       "20            T120             Ещё              Новая ул, 124"
      ]
     },
     "execution_count": 53,
     "metadata": {},
     "output_type": "execute_result"
    }
   ],
   "source": [
    "travel_agents"
   ]
  },
  {
   "cell_type": "code",
   "execution_count": 54,
   "metadata": {
    "ExecuteTime": {
     "end_time": "2025-03-04T06:21:21.688726Z",
     "start_time": "2025-03-04T06:21:21.685514Z"
    }
   },
   "outputs": [],
   "source": [
    "travels = pd.read_csv(\"travels.csv\", sep=\";\")"
   ]
  },
  {
   "cell_type": "code",
   "execution_count": 55,
   "metadata": {
    "ExecuteTime": {
     "end_time": "2025-03-04T06:21:21.752685Z",
     "start_time": "2025-03-04T06:21:21.746860Z"
    }
   },
   "outputs": [
    {
     "data": {
      "text/html": [
       "<div>\n",
       "<style scoped>\n",
       "    .dataframe tbody tr th:only-of-type {\n",
       "        vertical-align: middle;\n",
       "    }\n",
       "\n",
       "    .dataframe tbody tr th {\n",
       "        vertical-align: top;\n",
       "    }\n",
       "\n",
       "    .dataframe thead th {\n",
       "        text-align: right;\n",
       "    }\n",
       "</style>\n",
       "<table border=\"1\" class=\"dataframe\">\n",
       "  <thead>\n",
       "    <tr style=\"text-align: right;\">\n",
       "      <th></th>\n",
       "      <th>ID тура</th>\n",
       "      <th>Город</th>\n",
       "      <th>Продолжительность, дней</th>\n",
       "      <th>Стоимость, на 1 чел</th>\n",
       "    </tr>\n",
       "  </thead>\n",
       "  <tbody>\n",
       "    <tr>\n",
       "      <th>0</th>\n",
       "      <td>R1101</td>\n",
       "      <td>Москва</td>\n",
       "      <td>7</td>\n",
       "      <td>19700</td>\n",
       "    </tr>\n",
       "    <tr>\n",
       "      <th>1</th>\n",
       "      <td>R1102</td>\n",
       "      <td>Апатиты</td>\n",
       "      <td>7</td>\n",
       "      <td>17400</td>\n",
       "    </tr>\n",
       "    <tr>\n",
       "      <th>2</th>\n",
       "      <td>R1103</td>\n",
       "      <td>Великий Устюг</td>\n",
       "      <td>4</td>\n",
       "      <td>22700</td>\n",
       "    </tr>\n",
       "    <tr>\n",
       "      <th>3</th>\n",
       "      <td>R1104</td>\n",
       "      <td>Вологда</td>\n",
       "      <td>10</td>\n",
       "      <td>11400</td>\n",
       "    </tr>\n",
       "    <tr>\n",
       "      <th>4</th>\n",
       "      <td>R1105</td>\n",
       "      <td>Каргополь</td>\n",
       "      <td>5</td>\n",
       "      <td>14700</td>\n",
       "    </tr>\n",
       "    <tr>\n",
       "      <th>5</th>\n",
       "      <td>R1106</td>\n",
       "      <td>Котлас</td>\n",
       "      <td>10</td>\n",
       "      <td>7000</td>\n",
       "    </tr>\n",
       "    <tr>\n",
       "      <th>6</th>\n",
       "      <td>R1107</td>\n",
       "      <td>Коряжма</td>\n",
       "      <td>7</td>\n",
       "      <td>6800</td>\n",
       "    </tr>\n",
       "    <tr>\n",
       "      <th>7</th>\n",
       "      <td>R1108</td>\n",
       "      <td>Мурманск</td>\n",
       "      <td>5</td>\n",
       "      <td>29200</td>\n",
       "    </tr>\n",
       "    <tr>\n",
       "      <th>8</th>\n",
       "      <td>R1109</td>\n",
       "      <td>Няндома</td>\n",
       "      <td>4</td>\n",
       "      <td>8100</td>\n",
       "    </tr>\n",
       "    <tr>\n",
       "      <th>9</th>\n",
       "      <td>R1110</td>\n",
       "      <td>Онега</td>\n",
       "      <td>10</td>\n",
       "      <td>17700</td>\n",
       "    </tr>\n",
       "    <tr>\n",
       "      <th>10</th>\n",
       "      <td>R1111</td>\n",
       "      <td>Петрозаводск</td>\n",
       "      <td>6</td>\n",
       "      <td>20800</td>\n",
       "    </tr>\n",
       "    <tr>\n",
       "      <th>11</th>\n",
       "      <td>R1112</td>\n",
       "      <td>Санкт-Петербург</td>\n",
       "      <td>8</td>\n",
       "      <td>4400</td>\n",
       "    </tr>\n",
       "    <tr>\n",
       "      <th>12</th>\n",
       "      <td>R1113</td>\n",
       "      <td>Северодвинск</td>\n",
       "      <td>3</td>\n",
       "      <td>17900</td>\n",
       "    </tr>\n",
       "    <tr>\n",
       "      <th>13</th>\n",
       "      <td>R1114</td>\n",
       "      <td>Череповец</td>\n",
       "      <td>9</td>\n",
       "      <td>21100</td>\n",
       "    </tr>\n",
       "    <tr>\n",
       "      <th>14</th>\n",
       "      <td>R1115</td>\n",
       "      <td>Ярославль</td>\n",
       "      <td>7</td>\n",
       "      <td>17800</td>\n",
       "    </tr>\n",
       "    <tr>\n",
       "      <th>15</th>\n",
       "      <td>R1116</td>\n",
       "      <td>Вельск</td>\n",
       "      <td>6</td>\n",
       "      <td>27600</td>\n",
       "    </tr>\n",
       "    <tr>\n",
       "      <th>16</th>\n",
       "      <td>R1117</td>\n",
       "      <td>Архангельск</td>\n",
       "      <td>4</td>\n",
       "      <td>15000</td>\n",
       "    </tr>\n",
       "    <tr>\n",
       "      <th>17</th>\n",
       "      <td>R1118</td>\n",
       "      <td>Плесецк</td>\n",
       "      <td>2</td>\n",
       "      <td>7500</td>\n",
       "    </tr>\n",
       "    <tr>\n",
       "      <th>18</th>\n",
       "      <td>R1119</td>\n",
       "      <td>Беломорск</td>\n",
       "      <td>9</td>\n",
       "      <td>25300</td>\n",
       "    </tr>\n",
       "    <tr>\n",
       "      <th>19</th>\n",
       "      <td>R1120</td>\n",
       "      <td>Кемь</td>\n",
       "      <td>5</td>\n",
       "      <td>17300</td>\n",
       "    </tr>\n",
       "    <tr>\n",
       "      <th>20</th>\n",
       "      <td>R1121</td>\n",
       "      <td>Кондопога</td>\n",
       "      <td>5</td>\n",
       "      <td>17700</td>\n",
       "    </tr>\n",
       "    <tr>\n",
       "      <th>21</th>\n",
       "      <td>R1122</td>\n",
       "      <td>Медвежьегорск</td>\n",
       "      <td>5</td>\n",
       "      <td>4800</td>\n",
       "    </tr>\n",
       "    <tr>\n",
       "      <th>22</th>\n",
       "      <td>R1123</td>\n",
       "      <td>Питкяранта</td>\n",
       "      <td>3</td>\n",
       "      <td>15900</td>\n",
       "    </tr>\n",
       "    <tr>\n",
       "      <th>23</th>\n",
       "      <td>R1124</td>\n",
       "      <td>Сегежа</td>\n",
       "      <td>8</td>\n",
       "      <td>5600</td>\n",
       "    </tr>\n",
       "    <tr>\n",
       "      <th>24</th>\n",
       "      <td>R1125</td>\n",
       "      <td>Сортавала</td>\n",
       "      <td>4</td>\n",
       "      <td>14100</td>\n",
       "    </tr>\n",
       "    <tr>\n",
       "      <th>25</th>\n",
       "      <td>R1126</td>\n",
       "      <td>Костомукша</td>\n",
       "      <td>7</td>\n",
       "      <td>19700</td>\n",
       "    </tr>\n",
       "    <tr>\n",
       "      <th>26</th>\n",
       "      <td>R1127</td>\n",
       "      <td>Тверь</td>\n",
       "      <td>6</td>\n",
       "      <td>26800</td>\n",
       "    </tr>\n",
       "    <tr>\n",
       "      <th>27</th>\n",
       "      <td>R1128</td>\n",
       "      <td>Сыктывкар</td>\n",
       "      <td>10</td>\n",
       "      <td>11400</td>\n",
       "    </tr>\n",
       "    <tr>\n",
       "      <th>28</th>\n",
       "      <td>R1129</td>\n",
       "      <td>Иваново</td>\n",
       "      <td>7</td>\n",
       "      <td>17900</td>\n",
       "    </tr>\n",
       "    <tr>\n",
       "      <th>29</th>\n",
       "      <td>R1130</td>\n",
       "      <td>Кострома</td>\n",
       "      <td>6</td>\n",
       "      <td>17300</td>\n",
       "    </tr>\n",
       "    <tr>\n",
       "      <th>30</th>\n",
       "      <td>R1131</td>\n",
       "      <td>Псков</td>\n",
       "      <td>7</td>\n",
       "      <td>20000</td>\n",
       "    </tr>\n",
       "    <tr>\n",
       "      <th>31</th>\n",
       "      <td>R1132</td>\n",
       "      <td>Великие Луки</td>\n",
       "      <td>7</td>\n",
       "      <td>24100</td>\n",
       "    </tr>\n",
       "  </tbody>\n",
       "</table>\n",
       "</div>"
      ],
      "text/plain": [
       "   ID тура            Город  Продолжительность, дней  Стоимость, на 1 чел\n",
       "0    R1101           Москва                        7                19700\n",
       "1    R1102          Апатиты                        7                17400\n",
       "2    R1103    Великий Устюг                        4                22700\n",
       "3    R1104          Вологда                       10                11400\n",
       "4    R1105        Каргополь                        5                14700\n",
       "5    R1106           Котлас                       10                 7000\n",
       "6    R1107          Коряжма                        7                 6800\n",
       "7    R1108         Мурманск                        5                29200\n",
       "8    R1109          Няндома                        4                 8100\n",
       "9    R1110            Онега                       10                17700\n",
       "10   R1111     Петрозаводск                        6                20800\n",
       "11   R1112  Санкт-Петербург                        8                 4400\n",
       "12   R1113     Северодвинск                        3                17900\n",
       "13   R1114        Череповец                        9                21100\n",
       "14   R1115        Ярославль                        7                17800\n",
       "15   R1116           Вельск                        6                27600\n",
       "16   R1117      Архангельск                        4                15000\n",
       "17   R1118          Плесецк                        2                 7500\n",
       "18   R1119        Беломорск                        9                25300\n",
       "19   R1120             Кемь                        5                17300\n",
       "20   R1121        Кондопога                        5                17700\n",
       "21   R1122    Медвежьегорск                        5                 4800\n",
       "22   R1123       Питкяранта                        3                15900\n",
       "23   R1124           Сегежа                        8                 5600\n",
       "24   R1125        Сортавала                        4                14100\n",
       "25   R1126       Костомукша                        7                19700\n",
       "26   R1127            Тверь                        6                26800\n",
       "27   R1128        Сыктывкар                       10                11400\n",
       "28   R1129          Иваново                        7                17900\n",
       "29   R1130         Кострома                        6                17300\n",
       "30   R1131            Псков                        7                20000\n",
       "31   R1132     Великие Луки                        7                24100"
      ]
     },
     "execution_count": 55,
     "metadata": {},
     "output_type": "execute_result"
    }
   ],
   "source": [
    "travels"
   ]
  },
  {
   "cell_type": "markdown",
   "metadata": {},
   "source": [
    "### Найти количество и названия туроператоров, продающих путёвки в города Псков и Ярославль."
   ]
  },
  {
   "cell_type": "code",
   "execution_count": 56,
   "metadata": {
    "ExecuteTime": {
     "end_time": "2025-03-04T06:21:21.814451Z",
     "start_time": "2025-03-04T06:21:21.811286Z"
    }
   },
   "outputs": [],
   "source": [
    "city = [\"Псков\", \"Ярославль\"]\n",
    "\n",
    "tours_id = travels.loc[travels[\"Город\"].isin(city), \"ID тура\"]"
   ]
  },
  {
   "cell_type": "code",
   "execution_count": 57,
   "metadata": {
    "ExecuteTime": {
     "end_time": "2025-03-04T06:21:21.857111Z",
     "start_time": "2025-03-04T06:21:21.853183Z"
    }
   },
   "outputs": [
    {
     "data": {
      "text/plain": [
       "14    R1115\n",
       "30    R1131\n",
       "Name: ID тура, dtype: object"
      ]
     },
     "execution_count": 57,
     "metadata": {},
     "output_type": "execute_result"
    }
   ],
   "source": [
    "tours_id"
   ]
  },
  {
   "cell_type": "code",
   "execution_count": 58,
   "metadata": {
    "ExecuteTime": {
     "end_time": "2025-03-04T06:21:21.910759Z",
     "start_time": "2025-03-04T06:21:21.907784Z"
    }
   },
   "outputs": [],
   "source": [
    "agent_id = sale_of_tour_packages.loc[\n",
    "\tsale_of_tour_packages[\"ID тура\"].isin(tours_id), \n",
    "\t\"ID туроператора\"]"
   ]
  },
  {
   "cell_type": "code",
   "execution_count": 59,
   "metadata": {
    "ExecuteTime": {
     "end_time": "2025-03-04T06:21:21.954169Z",
     "start_time": "2025-03-04T06:21:21.950688Z"
    }
   },
   "outputs": [
    {
     "data": {
      "text/plain": [
       "12      T107\n",
       "14      T109\n",
       "49      T118\n",
       "53      T100\n",
       "67      T111\n",
       "        ... \n",
       "4954    T120\n",
       "4964    T114\n",
       "4972    T102\n",
       "4983    T116\n",
       "4985    T107\n",
       "Name: ID туроператора, Length: 311, dtype: object"
      ]
     },
     "execution_count": 59,
     "metadata": {},
     "output_type": "execute_result"
    }
   ],
   "source": [
    "agent_id"
   ]
  },
  {
   "cell_type": "code",
   "execution_count": 60,
   "metadata": {
    "ExecuteTime": {
     "end_time": "2025-03-04T06:21:22.014325Z",
     "start_time": "2025-03-04T06:21:22.009328Z"
    }
   },
   "outputs": [
    {
     "data": {
      "text/html": [
       "<div>\n",
       "<style scoped>\n",
       "    .dataframe tbody tr th:only-of-type {\n",
       "        vertical-align: middle;\n",
       "    }\n",
       "\n",
       "    .dataframe tbody tr th {\n",
       "        vertical-align: top;\n",
       "    }\n",
       "\n",
       "    .dataframe thead th {\n",
       "        text-align: right;\n",
       "    }\n",
       "</style>\n",
       "<table border=\"1\" class=\"dataframe\">\n",
       "  <thead>\n",
       "    <tr style=\"text-align: right;\">\n",
       "      <th></th>\n",
       "      <th>ID туроператора</th>\n",
       "      <th>Название</th>\n",
       "      <th>Адрес</th>\n",
       "    </tr>\n",
       "  </thead>\n",
       "  <tbody>\n",
       "    <tr>\n",
       "      <th>0</th>\n",
       "      <td>T100</td>\n",
       "      <td>Путешественник</td>\n",
       "      <td>Айвазовского ул, 53</td>\n",
       "    </tr>\n",
       "    <tr>\n",
       "      <th>1</th>\n",
       "      <td>T101</td>\n",
       "      <td>Вокруг света</td>\n",
       "      <td>Серафимы Дерябиной ул, 24</td>\n",
       "    </tr>\n",
       "    <tr>\n",
       "      <th>2</th>\n",
       "      <td>T102</td>\n",
       "      <td>Традиции</td>\n",
       "      <td>Токарей ул, 52</td>\n",
       "    </tr>\n",
       "    <tr>\n",
       "      <th>3</th>\n",
       "      <td>T103</td>\n",
       "      <td>Иллюзия</td>\n",
       "      <td>Космонавтов пр-кт, 104</td>\n",
       "    </tr>\n",
       "    <tr>\n",
       "      <th>4</th>\n",
       "      <td>T104</td>\n",
       "      <td>Даль</td>\n",
       "      <td>Ясная ул, 2</td>\n",
       "    </tr>\n",
       "    <tr>\n",
       "      <th>5</th>\n",
       "      <td>T105</td>\n",
       "      <td>Восторг</td>\n",
       "      <td>Высоцкого ул, 12</td>\n",
       "    </tr>\n",
       "    <tr>\n",
       "      <th>6</th>\n",
       "      <td>T106</td>\n",
       "      <td>Дивный мир</td>\n",
       "      <td>Таватуйская ул, 14</td>\n",
       "    </tr>\n",
       "    <tr>\n",
       "      <th>7</th>\n",
       "      <td>T107</td>\n",
       "      <td>Горизонт</td>\n",
       "      <td>Черепанова ул, 121</td>\n",
       "    </tr>\n",
       "    <tr>\n",
       "      <th>8</th>\n",
       "      <td>T108</td>\n",
       "      <td>Друг</td>\n",
       "      <td>Токарей ул, 59</td>\n",
       "    </tr>\n",
       "    <tr>\n",
       "      <th>9</th>\n",
       "      <td>T109</td>\n",
       "      <td>Палатка</td>\n",
       "      <td>Таватуйская ул, 14</td>\n",
       "    </tr>\n",
       "    <tr>\n",
       "      <th>10</th>\n",
       "      <td>T110</td>\n",
       "      <td>Релакс</td>\n",
       "      <td>Сигнальная ул, 45</td>\n",
       "    </tr>\n",
       "    <tr>\n",
       "      <th>11</th>\n",
       "      <td>T111</td>\n",
       "      <td>Мечта</td>\n",
       "      <td>Ровный пр-кт, 11</td>\n",
       "    </tr>\n",
       "    <tr>\n",
       "      <th>12</th>\n",
       "      <td>T112</td>\n",
       "      <td>Непознанное</td>\n",
       "      <td>Пролетарская ул, 23</td>\n",
       "    </tr>\n",
       "    <tr>\n",
       "      <th>13</th>\n",
       "      <td>T113</td>\n",
       "      <td>Все чудеса</td>\n",
       "      <td>Лиховицкая ул, 15</td>\n",
       "    </tr>\n",
       "    <tr>\n",
       "      <th>14</th>\n",
       "      <td>T114</td>\n",
       "      <td>Вместе</td>\n",
       "      <td>Крутой пр-кт, 24</td>\n",
       "    </tr>\n",
       "    <tr>\n",
       "      <th>15</th>\n",
       "      <td>T115</td>\n",
       "      <td>Оглянись</td>\n",
       "      <td>Дикая ул, 31</td>\n",
       "    </tr>\n",
       "    <tr>\n",
       "      <th>16</th>\n",
       "      <td>T116</td>\n",
       "      <td>Матрица</td>\n",
       "      <td>Восточная ул, 78</td>\n",
       "    </tr>\n",
       "    <tr>\n",
       "      <th>17</th>\n",
       "      <td>T117</td>\n",
       "      <td>Компас</td>\n",
       "      <td>Северная ул., 87</td>\n",
       "    </tr>\n",
       "    <tr>\n",
       "      <th>18</th>\n",
       "      <td>T118</td>\n",
       "      <td>Впервые</td>\n",
       "      <td>Лесная ул, 43</td>\n",
       "    </tr>\n",
       "    <tr>\n",
       "      <th>19</th>\n",
       "      <td>T119</td>\n",
       "      <td>Твой край</td>\n",
       "      <td>Веленский пр-кт, 1</td>\n",
       "    </tr>\n",
       "    <tr>\n",
       "      <th>20</th>\n",
       "      <td>T120</td>\n",
       "      <td>Ещё</td>\n",
       "      <td>Новая ул, 124</td>\n",
       "    </tr>\n",
       "  </tbody>\n",
       "</table>\n",
       "</div>"
      ],
      "text/plain": [
       "   ID туроператора        Название                      Адрес\n",
       "0             T100  Путешественник        Айвазовского ул, 53\n",
       "1             T101    Вокруг света  Серафимы Дерябиной ул, 24\n",
       "2             T102        Традиции             Токарей ул, 52\n",
       "3             T103         Иллюзия     Космонавтов пр-кт, 104\n",
       "4             T104            Даль                Ясная ул, 2\n",
       "5             T105         Восторг           Высоцкого ул, 12\n",
       "6             T106      Дивный мир         Таватуйская ул, 14\n",
       "7             T107        Горизонт         Черепанова ул, 121\n",
       "8             T108            Друг             Токарей ул, 59\n",
       "9             T109         Палатка         Таватуйская ул, 14\n",
       "10            T110          Релакс          Сигнальная ул, 45\n",
       "11            T111           Мечта           Ровный пр-кт, 11\n",
       "12            T112     Непознанное        Пролетарская ул, 23\n",
       "13            T113      Все чудеса          Лиховицкая ул, 15\n",
       "14            T114          Вместе           Крутой пр-кт, 24\n",
       "15            T115        Оглянись               Дикая ул, 31\n",
       "16            T116         Матрица           Восточная ул, 78\n",
       "17            T117          Компас           Северная ул., 87\n",
       "18            T118         Впервые              Лесная ул, 43\n",
       "19            T119       Твой край         Веленский пр-кт, 1\n",
       "20            T120             Ещё              Новая ул, 124"
      ]
     },
     "execution_count": 60,
     "metadata": {},
     "output_type": "execute_result"
    }
   ],
   "source": [
    "ans = travel_agents[travel_agents[\"ID туроператора\"].isin(agent_id)]\n",
    "ans"
   ]
  },
  {
   "cell_type": "code",
   "execution_count": 61,
   "metadata": {
    "ExecuteTime": {
     "end_time": "2025-03-04T06:21:22.083515Z",
     "start_time": "2025-03-04T06:21:22.081313Z"
    }
   },
   "outputs": [],
   "source": [
    "count = len(ans)\n",
    "names = ans[\"Название\"]"
   ]
  },
  {
   "cell_type": "code",
   "execution_count": 62,
   "metadata": {
    "ExecuteTime": {
     "end_time": "2025-03-04T06:21:22.149107Z",
     "start_time": "2025-03-04T06:21:22.146730Z"
    }
   },
   "outputs": [
    {
     "name": "stdout",
     "output_type": "stream",
     "text": [
      "Количество тур операторов продающих в ['Псков', 'Ярославль'] = 21\n",
      "Названия\n",
      "Путешественник\n",
      "Вокруг света\n",
      "Традиции\n",
      "Иллюзия\n",
      "Даль\n",
      "Восторг\n",
      "Дивный мир\n",
      "Горизонт\n",
      "Друг\n",
      "Палатка\n",
      "Релакс\n",
      "Мечта\n",
      "Непознанное\n",
      "Все чудеса\n",
      "Вместе\n",
      "Оглянись\n",
      "Матрица\n",
      "Компас\n",
      "Впервые\n",
      "Твой край\n",
      "Ещё\n"
     ]
    }
   ],
   "source": [
    "print(f\"Количество тур операторов продающих в {city} = {count}\")\n",
    "print(\"Названия\")\n",
    "for n in names:\n",
    "\tprint(n)"
   ]
  },
  {
   "cell_type": "markdown",
   "metadata": {},
   "source": [
    "### Построить круговую диаграмму, отображающую количество путёвок в города, чьё название заканчивается на букву \"ь\"."
   ]
  },
  {
   "cell_type": "code",
   "execution_count": 63,
   "metadata": {
    "ExecuteTime": {
     "end_time": "2025-03-04T06:21:22.220850Z",
     "start_time": "2025-03-04T06:21:22.218272Z"
    }
   },
   "outputs": [],
   "source": [
    "cities = travels[travels[\"Город\"].str.endswith('ь')]"
   ]
  },
  {
   "cell_type": "code",
   "execution_count": 64,
   "metadata": {
    "ExecuteTime": {
     "end_time": "2025-03-04T06:21:22.272975Z",
     "start_time": "2025-03-04T06:21:22.267173Z"
    }
   },
   "outputs": [
    {
     "data": {
      "text/html": [
       "<div>\n",
       "<style scoped>\n",
       "    .dataframe tbody tr th:only-of-type {\n",
       "        vertical-align: middle;\n",
       "    }\n",
       "\n",
       "    .dataframe tbody tr th {\n",
       "        vertical-align: top;\n",
       "    }\n",
       "\n",
       "    .dataframe thead th {\n",
       "        text-align: right;\n",
       "    }\n",
       "</style>\n",
       "<table border=\"1\" class=\"dataframe\">\n",
       "  <thead>\n",
       "    <tr style=\"text-align: right;\">\n",
       "      <th></th>\n",
       "      <th>ID тура</th>\n",
       "      <th>Город</th>\n",
       "      <th>Продолжительность, дней</th>\n",
       "      <th>Стоимость, на 1 чел</th>\n",
       "    </tr>\n",
       "  </thead>\n",
       "  <tbody>\n",
       "    <tr>\n",
       "      <th>4</th>\n",
       "      <td>R1105</td>\n",
       "      <td>Каргополь</td>\n",
       "      <td>5</td>\n",
       "      <td>14700</td>\n",
       "    </tr>\n",
       "    <tr>\n",
       "      <th>14</th>\n",
       "      <td>R1115</td>\n",
       "      <td>Ярославль</td>\n",
       "      <td>7</td>\n",
       "      <td>17800</td>\n",
       "    </tr>\n",
       "    <tr>\n",
       "      <th>19</th>\n",
       "      <td>R1120</td>\n",
       "      <td>Кемь</td>\n",
       "      <td>5</td>\n",
       "      <td>17300</td>\n",
       "    </tr>\n",
       "    <tr>\n",
       "      <th>26</th>\n",
       "      <td>R1127</td>\n",
       "      <td>Тверь</td>\n",
       "      <td>6</td>\n",
       "      <td>26800</td>\n",
       "    </tr>\n",
       "  </tbody>\n",
       "</table>\n",
       "</div>"
      ],
      "text/plain": [
       "   ID тура      Город  Продолжительность, дней  Стоимость, на 1 чел\n",
       "4    R1105  Каргополь                        5                14700\n",
       "14   R1115  Ярославль                        7                17800\n",
       "19   R1120       Кемь                        5                17300\n",
       "26   R1127      Тверь                        6                26800"
      ]
     },
     "execution_count": 64,
     "metadata": {},
     "output_type": "execute_result"
    }
   ],
   "source": [
    "cities"
   ]
  },
  {
   "cell_type": "code",
   "execution_count": 65,
   "metadata": {
    "ExecuteTime": {
     "end_time": "2025-03-04T06:21:22.384209Z",
     "start_time": "2025-03-04T06:21:22.382185Z"
    }
   },
   "outputs": [
    {
     "data": {
      "text/plain": [
       "pandas.core.frame.DataFrame"
      ]
     },
     "execution_count": 65,
     "metadata": {},
     "output_type": "execute_result"
    }
   ],
   "source": [
    "type(cities)"
   ]
  },
  {
   "cell_type": "code",
   "execution_count": 66,
   "metadata": {
    "ExecuteTime": {
     "end_time": "2025-03-04T06:21:22.425146Z",
     "start_time": "2025-03-04T06:21:22.422111Z"
    }
   },
   "outputs": [
    {
     "data": {
      "text/plain": [
       "pandas.core.series.Series"
      ]
     },
     "execution_count": 66,
     "metadata": {},
     "output_type": "execute_result"
    }
   ],
   "source": [
    "type(cities[\"ID тура\"])"
   ]
  },
  {
   "cell_type": "code",
   "execution_count": 67,
   "metadata": {
    "ExecuteTime": {
     "end_time": "2025-03-04T06:21:22.459049Z",
     "start_time": "2025-03-04T06:21:22.456584Z"
    }
   },
   "outputs": [],
   "source": [
    "city_names = cities.set_index(\"ID тура\")[\"Город\"].to_dict()"
   ]
  },
  {
   "cell_type": "code",
   "execution_count": 68,
   "metadata": {
    "ExecuteTime": {
     "end_time": "2025-03-04T06:21:22.522535Z",
     "start_time": "2025-03-04T06:21:22.520122Z"
    }
   },
   "outputs": [
    {
     "data": {
      "text/plain": [
       "{'R1105': 'Каргополь', 'R1115': 'Ярославль', 'R1120': 'Кемь', 'R1127': 'Тверь'}"
      ]
     },
     "execution_count": 68,
     "metadata": {},
     "output_type": "execute_result"
    }
   ],
   "source": [
    "city_names"
   ]
  },
  {
   "cell_type": "code",
   "execution_count": 69,
   "metadata": {
    "ExecuteTime": {
     "end_time": "2025-03-04T06:21:22.567107Z",
     "start_time": "2025-03-04T06:21:22.564394Z"
    }
   },
   "outputs": [],
   "source": [
    "putev_gorod = sale_of_tour_packages[\n",
    "\tsale_of_tour_packages[\"ID тура\"].isin(cities[\"ID тура\"])\n",
    "\t]"
   ]
  },
  {
   "cell_type": "code",
   "execution_count": 70,
   "metadata": {
    "ExecuteTime": {
     "end_time": "2025-03-04T06:21:22.617993Z",
     "start_time": "2025-03-04T06:21:22.612796Z"
    }
   },
   "outputs": [
    {
     "data": {
      "text/html": [
       "<div>\n",
       "<style scoped>\n",
       "    .dataframe tbody tr th:only-of-type {\n",
       "        vertical-align: middle;\n",
       "    }\n",
       "\n",
       "    .dataframe tbody tr th {\n",
       "        vertical-align: top;\n",
       "    }\n",
       "\n",
       "    .dataframe thead th {\n",
       "        text-align: right;\n",
       "    }\n",
       "</style>\n",
       "<table border=\"1\" class=\"dataframe\">\n",
       "  <thead>\n",
       "    <tr style=\"text-align: right;\">\n",
       "      <th></th>\n",
       "      <th>ID операции</th>\n",
       "      <th>Дата</th>\n",
       "      <th>ID тура</th>\n",
       "      <th>ID туроператора</th>\n",
       "      <th>Количество проданных путёвок</th>\n",
       "    </tr>\n",
       "  </thead>\n",
       "  <tbody>\n",
       "    <tr>\n",
       "      <th>0</th>\n",
       "      <td>OP0001</td>\n",
       "      <td>01.01.2022</td>\n",
       "      <td>R1120</td>\n",
       "      <td>T105</td>\n",
       "      <td>15</td>\n",
       "    </tr>\n",
       "    <tr>\n",
       "      <th>5</th>\n",
       "      <td>OP0006</td>\n",
       "      <td>01.01.2022</td>\n",
       "      <td>R1105</td>\n",
       "      <td>T118</td>\n",
       "      <td>3</td>\n",
       "    </tr>\n",
       "    <tr>\n",
       "      <th>14</th>\n",
       "      <td>OP0015</td>\n",
       "      <td>01.01.2022</td>\n",
       "      <td>R1115</td>\n",
       "      <td>T109</td>\n",
       "      <td>20</td>\n",
       "    </tr>\n",
       "    <tr>\n",
       "      <th>51</th>\n",
       "      <td>OP0052</td>\n",
       "      <td>01.01.2022</td>\n",
       "      <td>R1127</td>\n",
       "      <td>T104</td>\n",
       "      <td>4</td>\n",
       "    </tr>\n",
       "    <tr>\n",
       "      <th>55</th>\n",
       "      <td>OP0056</td>\n",
       "      <td>01.01.2022</td>\n",
       "      <td>R1127</td>\n",
       "      <td>T112</td>\n",
       "      <td>4</td>\n",
       "    </tr>\n",
       "    <tr>\n",
       "      <th>...</th>\n",
       "      <td>...</td>\n",
       "      <td>...</td>\n",
       "      <td>...</td>\n",
       "      <td>...</td>\n",
       "      <td>...</td>\n",
       "    </tr>\n",
       "    <tr>\n",
       "      <th>4968</th>\n",
       "      <td>OP4969</td>\n",
       "      <td>31.03.2022</td>\n",
       "      <td>R1127</td>\n",
       "      <td>T116</td>\n",
       "      <td>12</td>\n",
       "    </tr>\n",
       "    <tr>\n",
       "      <th>4976</th>\n",
       "      <td>OP4977</td>\n",
       "      <td>31.03.2022</td>\n",
       "      <td>R1127</td>\n",
       "      <td>T115</td>\n",
       "      <td>19</td>\n",
       "    </tr>\n",
       "    <tr>\n",
       "      <th>4980</th>\n",
       "      <td>OP4981</td>\n",
       "      <td>31.03.2022</td>\n",
       "      <td>R1120</td>\n",
       "      <td>T117</td>\n",
       "      <td>11</td>\n",
       "    </tr>\n",
       "    <tr>\n",
       "      <th>4983</th>\n",
       "      <td>OP4984</td>\n",
       "      <td>31.03.2022</td>\n",
       "      <td>R1115</td>\n",
       "      <td>T116</td>\n",
       "      <td>17</td>\n",
       "    </tr>\n",
       "    <tr>\n",
       "      <th>4989</th>\n",
       "      <td>OP4990</td>\n",
       "      <td>31.03.2022</td>\n",
       "      <td>R1120</td>\n",
       "      <td>T101</td>\n",
       "      <td>15</td>\n",
       "    </tr>\n",
       "  </tbody>\n",
       "</table>\n",
       "<p>636 rows × 5 columns</p>\n",
       "</div>"
      ],
      "text/plain": [
       "     ID операции        Дата ID тура ID туроператора  \\\n",
       "0         OP0001  01.01.2022   R1120            T105   \n",
       "5         OP0006  01.01.2022   R1105            T118   \n",
       "14        OP0015  01.01.2022   R1115            T109   \n",
       "51        OP0052  01.01.2022   R1127            T104   \n",
       "55        OP0056  01.01.2022   R1127            T112   \n",
       "...          ...         ...     ...             ...   \n",
       "4968      OP4969  31.03.2022   R1127            T116   \n",
       "4976      OP4977  31.03.2022   R1127            T115   \n",
       "4980      OP4981  31.03.2022   R1120            T117   \n",
       "4983      OP4984  31.03.2022   R1115            T116   \n",
       "4989      OP4990  31.03.2022   R1120            T101   \n",
       "\n",
       "      Количество проданных путёвок  \n",
       "0                               15  \n",
       "5                                3  \n",
       "14                              20  \n",
       "51                               4  \n",
       "55                               4  \n",
       "...                            ...  \n",
       "4968                            12  \n",
       "4976                            19  \n",
       "4980                            11  \n",
       "4983                            17  \n",
       "4989                            15  \n",
       "\n",
       "[636 rows x 5 columns]"
      ]
     },
     "execution_count": 70,
     "metadata": {},
     "output_type": "execute_result"
    }
   ],
   "source": [
    "putev_gorod"
   ]
  },
  {
   "cell_type": "code",
   "execution_count": 71,
   "metadata": {
    "ExecuteTime": {
     "end_time": "2025-03-04T06:21:22.682358Z",
     "start_time": "2025-03-04T06:21:22.680169Z"
    }
   },
   "outputs": [],
   "source": [
    "groups = putev_gorod.groupby(\"ID тура\")[\"Количество проданных путёвок\"].sum()"
   ]
  },
  {
   "cell_type": "code",
   "execution_count": 72,
   "metadata": {
    "ExecuteTime": {
     "end_time": "2025-03-04T06:21:22.727348Z",
     "start_time": "2025-03-04T06:21:22.723449Z"
    }
   },
   "outputs": [],
   "source": [
    "renamed_groups = pd.DataFrame(groups.rename(index=city_names)).reset_index()"
   ]
  },
  {
   "cell_type": "code",
   "execution_count": 73,
   "metadata": {
    "ExecuteTime": {
     "end_time": "2025-03-04T06:21:22.767412Z",
     "start_time": "2025-03-04T06:21:22.763336Z"
    }
   },
   "outputs": [
    {
     "data": {
      "text/html": [
       "<div>\n",
       "<style scoped>\n",
       "    .dataframe tbody tr th:only-of-type {\n",
       "        vertical-align: middle;\n",
       "    }\n",
       "\n",
       "    .dataframe tbody tr th {\n",
       "        vertical-align: top;\n",
       "    }\n",
       "\n",
       "    .dataframe thead th {\n",
       "        text-align: right;\n",
       "    }\n",
       "</style>\n",
       "<table border=\"1\" class=\"dataframe\">\n",
       "  <thead>\n",
       "    <tr style=\"text-align: right;\">\n",
       "      <th></th>\n",
       "      <th>ID тура</th>\n",
       "      <th>Количество проданных путёвок</th>\n",
       "    </tr>\n",
       "  </thead>\n",
       "  <tbody>\n",
       "    <tr>\n",
       "      <th>0</th>\n",
       "      <td>Каргополь</td>\n",
       "      <td>1577</td>\n",
       "    </tr>\n",
       "    <tr>\n",
       "      <th>1</th>\n",
       "      <td>Ярославль</td>\n",
       "      <td>1663</td>\n",
       "    </tr>\n",
       "    <tr>\n",
       "      <th>2</th>\n",
       "      <td>Кемь</td>\n",
       "      <td>1798</td>\n",
       "    </tr>\n",
       "    <tr>\n",
       "      <th>3</th>\n",
       "      <td>Тверь</td>\n",
       "      <td>1769</td>\n",
       "    </tr>\n",
       "  </tbody>\n",
       "</table>\n",
       "</div>"
      ],
      "text/plain": [
       "     ID тура  Количество проданных путёвок\n",
       "0  Каргополь                          1577\n",
       "1  Ярославль                          1663\n",
       "2       Кемь                          1798\n",
       "3      Тверь                          1769"
      ]
     },
     "execution_count": 73,
     "metadata": {},
     "output_type": "execute_result"
    }
   ],
   "source": [
    "renamed_groups"
   ]
  },
  {
   "cell_type": "code",
   "execution_count": 74,
   "metadata": {
    "ExecuteTime": {
     "end_time": "2025-03-04T06:21:22.835435Z",
     "start_time": "2025-03-04T06:21:22.830709Z"
    }
   },
   "outputs": [
    {
     "name": "stdout",
     "output_type": "stream",
     "text": [
      "<class 'pandas.core.frame.DataFrame'>\n",
      "RangeIndex: 4 entries, 0 to 3\n",
      "Data columns (total 2 columns):\n",
      " #   Column                        Non-Null Count  Dtype \n",
      "---  ------                        --------------  ----- \n",
      " 0   ID тура                       4 non-null      object\n",
      " 1   Количество проданных путёвок  4 non-null      int64 \n",
      "dtypes: int64(1), object(1)\n",
      "memory usage: 196.0+ bytes\n"
     ]
    }
   ],
   "source": [
    "renamed_groups.info()"
   ]
  },
  {
   "cell_type": "code",
   "execution_count": 75,
   "metadata": {
    "ExecuteTime": {
     "end_time": "2025-03-04T06:21:22.932240Z",
     "start_time": "2025-03-04T06:21:22.874581Z"
    }
   },
   "outputs": [
    {
     "data": {
      "text/plain": [
       "<Axes: ylabel='Количество проданных путёвок'>"
      ]
     },
     "execution_count": 75,
     "metadata": {},
     "output_type": "execute_result"
    },
    {
     "data": {
      "image/png": "[encoded data removed]",
      "text/plain": [
       "<Figure size 800x800 with 1 Axes>"
      ]
     },
     "metadata": {},
     "output_type": "display_data"
    }
   ],
   "source": [
    "renamed_groups[\"Количество проданных путёвок\"].plot.pie(\n",
    "    labels=renamed_groups[\"ID тура\"],  \n",
    "    autopct=\"%.1f%%\",                  \n",
    "    figsize=(8, 8),                    \n",
    "    legend=False                      \n",
    ")"
   ]
  },
  {
   "cell_type": "code",
   "execution_count": 76,
   "metadata": {
    "ExecuteTime": {
     "end_time": "2025-03-04T06:21:22.954027Z",
     "start_time": "2025-03-04T06:21:22.952025Z"
    }
   },
   "outputs": [],
   "source": [
    "saled_count = sum(renamed_groups['Количество проданных путёвок']) / 100"
   ]
  },
  {
   "cell_type": "code",
   "execution_count": 77,
   "metadata": {
    "ExecuteTime": {
     "end_time": "2025-03-04T06:21:23.055289Z",
     "start_time": "2025-03-04T06:21:23.004567Z"
    }
   },
   "outputs": [
    {
     "data": {
      "text/plain": [
       "<Axes: >"
      ]
     },
     "execution_count": 77,
     "metadata": {},
     "output_type": "execute_result"
    },
    {
     "data": {
      "image/png": "[encoded data removed]",
      "text/plain": [
       "<Figure size 800x800 with 1 Axes>"
      ]
     },
     "metadata": {},
     "output_type": "display_data"
    }
   ],
   "source": [
    "renamed_groups[\"Количество проданных путёвок\"].plot.pie(\n",
    "    autopct=lambda dolya: f\"{dolya * saled_count :.0f}\",\n",
    "\tlabels=renamed_groups[\"ID тура\"],\n",
    "    figsize=(8, 8),\n",
    "    ylabel=\"\" \n",
    ")"
   ]
  },
  {
   "cell_type": "markdown",
   "metadata": {},
   "source": [
    "### Построить диаграмму, показывающую общую стоимость всех путёвок проданных туроператорами: Традиции, Иллюзия, Даль, Восторг."
   ]
  },
  {
   "cell_type": "code",
   "execution_count": 78,
   "metadata": {
    "ExecuteTime": {
     "end_time": "2025-03-04T06:21:23.070182Z",
     "start_time": "2025-03-04T06:21:23.068254Z"
    }
   },
   "outputs": [],
   "source": [
    "agents = [\"Традиции\", \"Иллюзия\", \"Даль\", \"Восторг\"]"
   ]
  },
  {
   "cell_type": "code",
   "execution_count": 79,
   "metadata": {
    "ExecuteTime": {
     "end_time": "2025-03-04T06:21:23.117694Z",
     "start_time": "2025-03-04T06:21:23.113936Z"
    }
   },
   "outputs": [],
   "source": [
    "agents_id = travel_agents[travel_agents[\"Название\"].isin(agents)]"
   ]
  },
  {
   "cell_type": "code",
   "execution_count": 80,
   "metadata": {
    "ExecuteTime": {
     "end_time": "2025-03-04T06:21:23.168934Z",
     "start_time": "2025-03-04T06:21:23.163362Z"
    }
   },
   "outputs": [
    {
     "data": {
      "text/html": [
       "<div>\n",
       "<style scoped>\n",
       "    .dataframe tbody tr th:only-of-type {\n",
       "        vertical-align: middle;\n",
       "    }\n",
       "\n",
       "    .dataframe tbody tr th {\n",
       "        vertical-align: top;\n",
       "    }\n",
       "\n",
       "    .dataframe thead th {\n",
       "        text-align: right;\n",
       "    }\n",
       "</style>\n",
       "<table border=\"1\" class=\"dataframe\">\n",
       "  <thead>\n",
       "    <tr style=\"text-align: right;\">\n",
       "      <th></th>\n",
       "      <th>ID туроператора</th>\n",
       "      <th>Название</th>\n",
       "      <th>Адрес</th>\n",
       "    </tr>\n",
       "  </thead>\n",
       "  <tbody>\n",
       "    <tr>\n",
       "      <th>2</th>\n",
       "      <td>T102</td>\n",
       "      <td>Традиции</td>\n",
       "      <td>Токарей ул, 52</td>\n",
       "    </tr>\n",
       "    <tr>\n",
       "      <th>3</th>\n",
       "      <td>T103</td>\n",
       "      <td>Иллюзия</td>\n",
       "      <td>Космонавтов пр-кт, 104</td>\n",
       "    </tr>\n",
       "    <tr>\n",
       "      <th>4</th>\n",
       "      <td>T104</td>\n",
       "      <td>Даль</td>\n",
       "      <td>Ясная ул, 2</td>\n",
       "    </tr>\n",
       "    <tr>\n",
       "      <th>5</th>\n",
       "      <td>T105</td>\n",
       "      <td>Восторг</td>\n",
       "      <td>Высоцкого ул, 12</td>\n",
       "    </tr>\n",
       "  </tbody>\n",
       "</table>\n",
       "</div>"
      ],
      "text/plain": [
       "  ID туроператора  Название                   Адрес\n",
       "2            T102  Традиции          Токарей ул, 52\n",
       "3            T103   Иллюзия  Космонавтов пр-кт, 104\n",
       "4            T104      Даль             Ясная ул, 2\n",
       "5            T105   Восторг        Высоцкого ул, 12"
      ]
     },
     "execution_count": 80,
     "metadata": {},
     "output_type": "execute_result"
    }
   ],
   "source": [
    "agents_id"
   ]
  },
  {
   "cell_type": "code",
   "execution_count": 81,
   "metadata": {
    "ExecuteTime": {
     "end_time": "2025-03-04T06:21:23.236164Z",
     "start_time": "2025-03-04T06:21:23.234024Z"
    }
   },
   "outputs": [],
   "source": [
    "agents_names = agents_id.set_index(\"ID туроператора\")[\"Название\"].to_dict()"
   ]
  },
  {
   "cell_type": "code",
   "execution_count": 82,
   "metadata": {
    "ExecuteTime": {
     "end_time": "2025-03-04T06:21:23.281941Z",
     "start_time": "2025-03-04T06:21:23.278635Z"
    }
   },
   "outputs": [
    {
     "data": {
      "text/plain": [
       "{'T102': 'Традиции', 'T103': 'Иллюзия', 'T104': 'Даль', 'T105': 'Восторг'}"
      ]
     },
     "execution_count": 82,
     "metadata": {},
     "output_type": "execute_result"
    }
   ],
   "source": [
    "agents_names"
   ]
  },
  {
   "cell_type": "code",
   "execution_count": 83,
   "metadata": {
    "ExecuteTime": {
     "end_time": "2025-03-04T06:21:23.316408Z",
     "start_time": "2025-03-04T06:21:23.313294Z"
    }
   },
   "outputs": [],
   "source": [
    "counts = sale_of_tour_packages[sale_of_tour_packages[\"ID туроператора\"].isin(agents_id[\"ID туроператора\"])]"
   ]
  },
  {
   "cell_type": "code",
   "execution_count": 84,
   "metadata": {
    "ExecuteTime": {
     "end_time": "2025-03-04T06:21:23.378624Z",
     "start_time": "2025-03-04T06:21:23.373244Z"
    }
   },
   "outputs": [
    {
     "data": {
      "text/html": [
       "<div>\n",
       "<style scoped>\n",
       "    .dataframe tbody tr th:only-of-type {\n",
       "        vertical-align: middle;\n",
       "    }\n",
       "\n",
       "    .dataframe tbody tr th {\n",
       "        vertical-align: top;\n",
       "    }\n",
       "\n",
       "    .dataframe thead th {\n",
       "        text-align: right;\n",
       "    }\n",
       "</style>\n",
       "<table border=\"1\" class=\"dataframe\">\n",
       "  <thead>\n",
       "    <tr style=\"text-align: right;\">\n",
       "      <th></th>\n",
       "      <th>ID операции</th>\n",
       "      <th>Дата</th>\n",
       "      <th>ID тура</th>\n",
       "      <th>ID туроператора</th>\n",
       "      <th>Количество проданных путёвок</th>\n",
       "    </tr>\n",
       "  </thead>\n",
       "  <tbody>\n",
       "    <tr>\n",
       "      <th>0</th>\n",
       "      <td>OP0001</td>\n",
       "      <td>01.01.2022</td>\n",
       "      <td>R1120</td>\n",
       "      <td>T105</td>\n",
       "      <td>15</td>\n",
       "    </tr>\n",
       "    <tr>\n",
       "      <th>7</th>\n",
       "      <td>OP0008</td>\n",
       "      <td>01.01.2022</td>\n",
       "      <td>R1103</td>\n",
       "      <td>T104</td>\n",
       "      <td>16</td>\n",
       "    </tr>\n",
       "    <tr>\n",
       "      <th>10</th>\n",
       "      <td>OP0011</td>\n",
       "      <td>01.01.2022</td>\n",
       "      <td>R1118</td>\n",
       "      <td>T102</td>\n",
       "      <td>14</td>\n",
       "    </tr>\n",
       "    <tr>\n",
       "      <th>17</th>\n",
       "      <td>OP0018</td>\n",
       "      <td>01.01.2022</td>\n",
       "      <td>R1114</td>\n",
       "      <td>T102</td>\n",
       "      <td>15</td>\n",
       "    </tr>\n",
       "    <tr>\n",
       "      <th>19</th>\n",
       "      <td>OP0020</td>\n",
       "      <td>01.01.2022</td>\n",
       "      <td>R1114</td>\n",
       "      <td>T104</td>\n",
       "      <td>8</td>\n",
       "    </tr>\n",
       "    <tr>\n",
       "      <th>...</th>\n",
       "      <td>...</td>\n",
       "      <td>...</td>\n",
       "      <td>...</td>\n",
       "      <td>...</td>\n",
       "      <td>...</td>\n",
       "    </tr>\n",
       "    <tr>\n",
       "      <th>4969</th>\n",
       "      <td>OP4970</td>\n",
       "      <td>31.03.2022</td>\n",
       "      <td>R1109</td>\n",
       "      <td>T104</td>\n",
       "      <td>18</td>\n",
       "    </tr>\n",
       "    <tr>\n",
       "      <th>4971</th>\n",
       "      <td>OP4972</td>\n",
       "      <td>31.03.2022</td>\n",
       "      <td>R1123</td>\n",
       "      <td>T105</td>\n",
       "      <td>9</td>\n",
       "    </tr>\n",
       "    <tr>\n",
       "      <th>4972</th>\n",
       "      <td>OP4973</td>\n",
       "      <td>31.03.2022</td>\n",
       "      <td>R1131</td>\n",
       "      <td>T102</td>\n",
       "      <td>4</td>\n",
       "    </tr>\n",
       "    <tr>\n",
       "      <th>4984</th>\n",
       "      <td>OP4985</td>\n",
       "      <td>31.03.2022</td>\n",
       "      <td>R1116</td>\n",
       "      <td>T103</td>\n",
       "      <td>20</td>\n",
       "    </tr>\n",
       "    <tr>\n",
       "      <th>4996</th>\n",
       "      <td>OP4997</td>\n",
       "      <td>31.03.2022</td>\n",
       "      <td>R1126</td>\n",
       "      <td>T103</td>\n",
       "      <td>20</td>\n",
       "    </tr>\n",
       "  </tbody>\n",
       "</table>\n",
       "<p>930 rows × 5 columns</p>\n",
       "</div>"
      ],
      "text/plain": [
       "     ID операции        Дата ID тура ID туроператора  \\\n",
       "0         OP0001  01.01.2022   R1120            T105   \n",
       "7         OP0008  01.01.2022   R1103            T104   \n",
       "10        OP0011  01.01.2022   R1118            T102   \n",
       "17        OP0018  01.01.2022   R1114            T102   \n",
       "19        OP0020  01.01.2022   R1114            T104   \n",
       "...          ...         ...     ...             ...   \n",
       "4969      OP4970  31.03.2022   R1109            T104   \n",
       "4971      OP4972  31.03.2022   R1123            T105   \n",
       "4972      OP4973  31.03.2022   R1131            T102   \n",
       "4984      OP4985  31.03.2022   R1116            T103   \n",
       "4996      OP4997  31.03.2022   R1126            T103   \n",
       "\n",
       "      Количество проданных путёвок  \n",
       "0                               15  \n",
       "7                               16  \n",
       "10                              14  \n",
       "17                              15  \n",
       "19                               8  \n",
       "...                            ...  \n",
       "4969                            18  \n",
       "4971                             9  \n",
       "4972                             4  \n",
       "4984                            20  \n",
       "4996                            20  \n",
       "\n",
       "[930 rows x 5 columns]"
      ]
     },
     "execution_count": 84,
     "metadata": {},
     "output_type": "execute_result"
    }
   ],
   "source": [
    "counts"
   ]
  },
  {
   "cell_type": "code",
   "execution_count": 85,
   "metadata": {
    "ExecuteTime": {
     "end_time": "2025-03-04T06:21:23.441323Z",
     "start_time": "2025-03-04T06:21:23.439176Z"
    }
   },
   "outputs": [],
   "source": [
    "prices = travels[travels[\"ID тура\"].isin(counts[\"ID тура\"])]"
   ]
  },
  {
   "cell_type": "code",
   "execution_count": 86,
   "metadata": {
    "ExecuteTime": {
     "end_time": "2025-03-04T06:21:23.489449Z",
     "start_time": "2025-03-04T06:21:23.482805Z"
    }
   },
   "outputs": [
    {
     "data": {
      "text/html": [
       "<div>\n",
       "<style scoped>\n",
       "    .dataframe tbody tr th:only-of-type {\n",
       "        vertical-align: middle;\n",
       "    }\n",
       "\n",
       "    .dataframe tbody tr th {\n",
       "        vertical-align: top;\n",
       "    }\n",
       "\n",
       "    .dataframe thead th {\n",
       "        text-align: right;\n",
       "    }\n",
       "</style>\n",
       "<table border=\"1\" class=\"dataframe\">\n",
       "  <thead>\n",
       "    <tr style=\"text-align: right;\">\n",
       "      <th></th>\n",
       "      <th>ID тура</th>\n",
       "      <th>Город</th>\n",
       "      <th>Продолжительность, дней</th>\n",
       "      <th>Стоимость, на 1 чел</th>\n",
       "    </tr>\n",
       "  </thead>\n",
       "  <tbody>\n",
       "    <tr>\n",
       "      <th>0</th>\n",
       "      <td>R1101</td>\n",
       "      <td>Москва</td>\n",
       "      <td>7</td>\n",
       "      <td>19700</td>\n",
       "    </tr>\n",
       "    <tr>\n",
       "      <th>1</th>\n",
       "      <td>R1102</td>\n",
       "      <td>Апатиты</td>\n",
       "      <td>7</td>\n",
       "      <td>17400</td>\n",
       "    </tr>\n",
       "    <tr>\n",
       "      <th>2</th>\n",
       "      <td>R1103</td>\n",
       "      <td>Великий Устюг</td>\n",
       "      <td>4</td>\n",
       "      <td>22700</td>\n",
       "    </tr>\n",
       "    <tr>\n",
       "      <th>3</th>\n",
       "      <td>R1104</td>\n",
       "      <td>Вологда</td>\n",
       "      <td>10</td>\n",
       "      <td>11400</td>\n",
       "    </tr>\n",
       "    <tr>\n",
       "      <th>4</th>\n",
       "      <td>R1105</td>\n",
       "      <td>Каргополь</td>\n",
       "      <td>5</td>\n",
       "      <td>14700</td>\n",
       "    </tr>\n",
       "    <tr>\n",
       "      <th>5</th>\n",
       "      <td>R1106</td>\n",
       "      <td>Котлас</td>\n",
       "      <td>10</td>\n",
       "      <td>7000</td>\n",
       "    </tr>\n",
       "    <tr>\n",
       "      <th>6</th>\n",
       "      <td>R1107</td>\n",
       "      <td>Коряжма</td>\n",
       "      <td>7</td>\n",
       "      <td>6800</td>\n",
       "    </tr>\n",
       "    <tr>\n",
       "      <th>7</th>\n",
       "      <td>R1108</td>\n",
       "      <td>Мурманск</td>\n",
       "      <td>5</td>\n",
       "      <td>29200</td>\n",
       "    </tr>\n",
       "    <tr>\n",
       "      <th>8</th>\n",
       "      <td>R1109</td>\n",
       "      <td>Няндома</td>\n",
       "      <td>4</td>\n",
       "      <td>8100</td>\n",
       "    </tr>\n",
       "    <tr>\n",
       "      <th>9</th>\n",
       "      <td>R1110</td>\n",
       "      <td>Онега</td>\n",
       "      <td>10</td>\n",
       "      <td>17700</td>\n",
       "    </tr>\n",
       "    <tr>\n",
       "      <th>10</th>\n",
       "      <td>R1111</td>\n",
       "      <td>Петрозаводск</td>\n",
       "      <td>6</td>\n",
       "      <td>20800</td>\n",
       "    </tr>\n",
       "    <tr>\n",
       "      <th>11</th>\n",
       "      <td>R1112</td>\n",
       "      <td>Санкт-Петербург</td>\n",
       "      <td>8</td>\n",
       "      <td>4400</td>\n",
       "    </tr>\n",
       "    <tr>\n",
       "      <th>12</th>\n",
       "      <td>R1113</td>\n",
       "      <td>Северодвинск</td>\n",
       "      <td>3</td>\n",
       "      <td>17900</td>\n",
       "    </tr>\n",
       "    <tr>\n",
       "      <th>13</th>\n",
       "      <td>R1114</td>\n",
       "      <td>Череповец</td>\n",
       "      <td>9</td>\n",
       "      <td>21100</td>\n",
       "    </tr>\n",
       "    <tr>\n",
       "      <th>14</th>\n",
       "      <td>R1115</td>\n",
       "      <td>Ярославль</td>\n",
       "      <td>7</td>\n",
       "      <td>17800</td>\n",
       "    </tr>\n",
       "    <tr>\n",
       "      <th>15</th>\n",
       "      <td>R1116</td>\n",
       "      <td>Вельск</td>\n",
       "      <td>6</td>\n",
       "      <td>27600</td>\n",
       "    </tr>\n",
       "    <tr>\n",
       "      <th>16</th>\n",
       "      <td>R1117</td>\n",
       "      <td>Архангельск</td>\n",
       "      <td>4</td>\n",
       "      <td>15000</td>\n",
       "    </tr>\n",
       "    <tr>\n",
       "      <th>17</th>\n",
       "      <td>R1118</td>\n",
       "      <td>Плесецк</td>\n",
       "      <td>2</td>\n",
       "      <td>7500</td>\n",
       "    </tr>\n",
       "    <tr>\n",
       "      <th>18</th>\n",
       "      <td>R1119</td>\n",
       "      <td>Беломорск</td>\n",
       "      <td>9</td>\n",
       "      <td>25300</td>\n",
       "    </tr>\n",
       "    <tr>\n",
       "      <th>19</th>\n",
       "      <td>R1120</td>\n",
       "      <td>Кемь</td>\n",
       "      <td>5</td>\n",
       "      <td>17300</td>\n",
       "    </tr>\n",
       "    <tr>\n",
       "      <th>20</th>\n",
       "      <td>R1121</td>\n",
       "      <td>Кондопога</td>\n",
       "      <td>5</td>\n",
       "      <td>17700</td>\n",
       "    </tr>\n",
       "    <tr>\n",
       "      <th>21</th>\n",
       "      <td>R1122</td>\n",
       "      <td>Медвежьегорск</td>\n",
       "      <td>5</td>\n",
       "      <td>4800</td>\n",
       "    </tr>\n",
       "    <tr>\n",
       "      <th>22</th>\n",
       "      <td>R1123</td>\n",
       "      <td>Питкяранта</td>\n",
       "      <td>3</td>\n",
       "      <td>15900</td>\n",
       "    </tr>\n",
       "    <tr>\n",
       "      <th>23</th>\n",
       "      <td>R1124</td>\n",
       "      <td>Сегежа</td>\n",
       "      <td>8</td>\n",
       "      <td>5600</td>\n",
       "    </tr>\n",
       "    <tr>\n",
       "      <th>24</th>\n",
       "      <td>R1125</td>\n",
       "      <td>Сортавала</td>\n",
       "      <td>4</td>\n",
       "      <td>14100</td>\n",
       "    </tr>\n",
       "    <tr>\n",
       "      <th>25</th>\n",
       "      <td>R1126</td>\n",
       "      <td>Костомукша</td>\n",
       "      <td>7</td>\n",
       "      <td>19700</td>\n",
       "    </tr>\n",
       "    <tr>\n",
       "      <th>26</th>\n",
       "      <td>R1127</td>\n",
       "      <td>Тверь</td>\n",
       "      <td>6</td>\n",
       "      <td>26800</td>\n",
       "    </tr>\n",
       "    <tr>\n",
       "      <th>27</th>\n",
       "      <td>R1128</td>\n",
       "      <td>Сыктывкар</td>\n",
       "      <td>10</td>\n",
       "      <td>11400</td>\n",
       "    </tr>\n",
       "    <tr>\n",
       "      <th>28</th>\n",
       "      <td>R1129</td>\n",
       "      <td>Иваново</td>\n",
       "      <td>7</td>\n",
       "      <td>17900</td>\n",
       "    </tr>\n",
       "    <tr>\n",
       "      <th>29</th>\n",
       "      <td>R1130</td>\n",
       "      <td>Кострома</td>\n",
       "      <td>6</td>\n",
       "      <td>17300</td>\n",
       "    </tr>\n",
       "    <tr>\n",
       "      <th>30</th>\n",
       "      <td>R1131</td>\n",
       "      <td>Псков</td>\n",
       "      <td>7</td>\n",
       "      <td>20000</td>\n",
       "    </tr>\n",
       "    <tr>\n",
       "      <th>31</th>\n",
       "      <td>R1132</td>\n",
       "      <td>Великие Луки</td>\n",
       "      <td>7</td>\n",
       "      <td>24100</td>\n",
       "    </tr>\n",
       "  </tbody>\n",
       "</table>\n",
       "</div>"
      ],
      "text/plain": [
       "   ID тура            Город  Продолжительность, дней  Стоимость, на 1 чел\n",
       "0    R1101           Москва                        7                19700\n",
       "1    R1102          Апатиты                        7                17400\n",
       "2    R1103    Великий Устюг                        4                22700\n",
       "3    R1104          Вологда                       10                11400\n",
       "4    R1105        Каргополь                        5                14700\n",
       "5    R1106           Котлас                       10                 7000\n",
       "6    R1107          Коряжма                        7                 6800\n",
       "7    R1108         Мурманск                        5                29200\n",
       "8    R1109          Няндома                        4                 8100\n",
       "9    R1110            Онега                       10                17700\n",
       "10   R1111     Петрозаводск                        6                20800\n",
       "11   R1112  Санкт-Петербург                        8                 4400\n",
       "12   R1113     Северодвинск                        3                17900\n",
       "13   R1114        Череповец                        9                21100\n",
       "14   R1115        Ярославль                        7                17800\n",
       "15   R1116           Вельск                        6                27600\n",
       "16   R1117      Архангельск                        4                15000\n",
       "17   R1118          Плесецк                        2                 7500\n",
       "18   R1119        Беломорск                        9                25300\n",
       "19   R1120             Кемь                        5                17300\n",
       "20   R1121        Кондопога                        5                17700\n",
       "21   R1122    Медвежьегорск                        5                 4800\n",
       "22   R1123       Питкяранта                        3                15900\n",
       "23   R1124           Сегежа                        8                 5600\n",
       "24   R1125        Сортавала                        4                14100\n",
       "25   R1126       Костомукша                        7                19700\n",
       "26   R1127            Тверь                        6                26800\n",
       "27   R1128        Сыктывкар                       10                11400\n",
       "28   R1129          Иваново                        7                17900\n",
       "29   R1130         Кострома                        6                17300\n",
       "30   R1131            Псков                        7                20000\n",
       "31   R1132     Великие Луки                        7                24100"
      ]
     },
     "execution_count": 86,
     "metadata": {},
     "output_type": "execute_result"
    }
   ],
   "source": [
    "prices"
   ]
  },
  {
   "cell_type": "code",
   "execution_count": 87,
   "metadata": {
    "ExecuteTime": {
     "end_time": "2025-03-04T06:21:23.548468Z",
     "start_time": "2025-03-04T06:21:23.544847Z"
    }
   },
   "outputs": [],
   "source": [
    "count_prices = counts.merge(prices, on = \"ID тура\", how=\"left\")"
   ]
  },
  {
   "cell_type": "code",
   "execution_count": 88,
   "metadata": {
    "ExecuteTime": {
     "end_time": "2025-03-04T06:21:23.605808Z",
     "start_time": "2025-03-04T06:21:23.598316Z"
    }
   },
   "outputs": [
    {
     "data": {
      "text/html": [
       "<div>\n",
       "<style scoped>\n",
       "    .dataframe tbody tr th:only-of-type {\n",
       "        vertical-align: middle;\n",
       "    }\n",
       "\n",
       "    .dataframe tbody tr th {\n",
       "        vertical-align: top;\n",
       "    }\n",
       "\n",
       "    .dataframe thead th {\n",
       "        text-align: right;\n",
       "    }\n",
       "</style>\n",
       "<table border=\"1\" class=\"dataframe\">\n",
       "  <thead>\n",
       "    <tr style=\"text-align: right;\">\n",
       "      <th></th>\n",
       "      <th>ID операции</th>\n",
       "      <th>Дата</th>\n",
       "      <th>ID тура</th>\n",
       "      <th>ID туроператора</th>\n",
       "      <th>Количество проданных путёвок</th>\n",
       "      <th>Город</th>\n",
       "      <th>Продолжительность, дней</th>\n",
       "      <th>Стоимость, на 1 чел</th>\n",
       "    </tr>\n",
       "  </thead>\n",
       "  <tbody>\n",
       "    <tr>\n",
       "      <th>0</th>\n",
       "      <td>OP0001</td>\n",
       "      <td>01.01.2022</td>\n",
       "      <td>R1120</td>\n",
       "      <td>T105</td>\n",
       "      <td>15</td>\n",
       "      <td>Кемь</td>\n",
       "      <td>5</td>\n",
       "      <td>17300</td>\n",
       "    </tr>\n",
       "    <tr>\n",
       "      <th>1</th>\n",
       "      <td>OP0008</td>\n",
       "      <td>01.01.2022</td>\n",
       "      <td>R1103</td>\n",
       "      <td>T104</td>\n",
       "      <td>16</td>\n",
       "      <td>Великий Устюг</td>\n",
       "      <td>4</td>\n",
       "      <td>22700</td>\n",
       "    </tr>\n",
       "    <tr>\n",
       "      <th>2</th>\n",
       "      <td>OP0011</td>\n",
       "      <td>01.01.2022</td>\n",
       "      <td>R1118</td>\n",
       "      <td>T102</td>\n",
       "      <td>14</td>\n",
       "      <td>Плесецк</td>\n",
       "      <td>2</td>\n",
       "      <td>7500</td>\n",
       "    </tr>\n",
       "    <tr>\n",
       "      <th>3</th>\n",
       "      <td>OP0018</td>\n",
       "      <td>01.01.2022</td>\n",
       "      <td>R1114</td>\n",
       "      <td>T102</td>\n",
       "      <td>15</td>\n",
       "      <td>Череповец</td>\n",
       "      <td>9</td>\n",
       "      <td>21100</td>\n",
       "    </tr>\n",
       "    <tr>\n",
       "      <th>4</th>\n",
       "      <td>OP0020</td>\n",
       "      <td>01.01.2022</td>\n",
       "      <td>R1114</td>\n",
       "      <td>T104</td>\n",
       "      <td>8</td>\n",
       "      <td>Череповец</td>\n",
       "      <td>9</td>\n",
       "      <td>21100</td>\n",
       "    </tr>\n",
       "    <tr>\n",
       "      <th>...</th>\n",
       "      <td>...</td>\n",
       "      <td>...</td>\n",
       "      <td>...</td>\n",
       "      <td>...</td>\n",
       "      <td>...</td>\n",
       "      <td>...</td>\n",
       "      <td>...</td>\n",
       "      <td>...</td>\n",
       "    </tr>\n",
       "    <tr>\n",
       "      <th>925</th>\n",
       "      <td>OP4970</td>\n",
       "      <td>31.03.2022</td>\n",
       "      <td>R1109</td>\n",
       "      <td>T104</td>\n",
       "      <td>18</td>\n",
       "      <td>Няндома</td>\n",
       "      <td>4</td>\n",
       "      <td>8100</td>\n",
       "    </tr>\n",
       "    <tr>\n",
       "      <th>926</th>\n",
       "      <td>OP4972</td>\n",
       "      <td>31.03.2022</td>\n",
       "      <td>R1123</td>\n",
       "      <td>T105</td>\n",
       "      <td>9</td>\n",
       "      <td>Питкяранта</td>\n",
       "      <td>3</td>\n",
       "      <td>15900</td>\n",
       "    </tr>\n",
       "    <tr>\n",
       "      <th>927</th>\n",
       "      <td>OP4973</td>\n",
       "      <td>31.03.2022</td>\n",
       "      <td>R1131</td>\n",
       "      <td>T102</td>\n",
       "      <td>4</td>\n",
       "      <td>Псков</td>\n",
       "      <td>7</td>\n",
       "      <td>20000</td>\n",
       "    </tr>\n",
       "    <tr>\n",
       "      <th>928</th>\n",
       "      <td>OP4985</td>\n",
       "      <td>31.03.2022</td>\n",
       "      <td>R1116</td>\n",
       "      <td>T103</td>\n",
       "      <td>20</td>\n",
       "      <td>Вельск</td>\n",
       "      <td>6</td>\n",
       "      <td>27600</td>\n",
       "    </tr>\n",
       "    <tr>\n",
       "      <th>929</th>\n",
       "      <td>OP4997</td>\n",
       "      <td>31.03.2022</td>\n",
       "      <td>R1126</td>\n",
       "      <td>T103</td>\n",
       "      <td>20</td>\n",
       "      <td>Костомукша</td>\n",
       "      <td>7</td>\n",
       "      <td>19700</td>\n",
       "    </tr>\n",
       "  </tbody>\n",
       "</table>\n",
       "<p>930 rows × 8 columns</p>\n",
       "</div>"
      ],
      "text/plain": [
       "    ID операции        Дата ID тура ID туроператора  \\\n",
       "0        OP0001  01.01.2022   R1120            T105   \n",
       "1        OP0008  01.01.2022   R1103            T104   \n",
       "2        OP0011  01.01.2022   R1118            T102   \n",
       "3        OP0018  01.01.2022   R1114            T102   \n",
       "4        OP0020  01.01.2022   R1114            T104   \n",
       "..          ...         ...     ...             ...   \n",
       "925      OP4970  31.03.2022   R1109            T104   \n",
       "926      OP4972  31.03.2022   R1123            T105   \n",
       "927      OP4973  31.03.2022   R1131            T102   \n",
       "928      OP4985  31.03.2022   R1116            T103   \n",
       "929      OP4997  31.03.2022   R1126            T103   \n",
       "\n",
       "     Количество проданных путёвок          Город  Продолжительность, дней  \\\n",
       "0                              15           Кемь                        5   \n",
       "1                              16  Великий Устюг                        4   \n",
       "2                              14        Плесецк                        2   \n",
       "3                              15      Череповец                        9   \n",
       "4                               8      Череповец                        9   \n",
       "..                            ...            ...                      ...   \n",
       "925                            18        Няндома                        4   \n",
       "926                             9     Питкяранта                        3   \n",
       "927                             4          Псков                        7   \n",
       "928                            20         Вельск                        6   \n",
       "929                            20     Костомукша                        7   \n",
       "\n",
       "     Стоимость, на 1 чел  \n",
       "0                  17300  \n",
       "1                  22700  \n",
       "2                   7500  \n",
       "3                  21100  \n",
       "4                  21100  \n",
       "..                   ...  \n",
       "925                 8100  \n",
       "926                15900  \n",
       "927                20000  \n",
       "928                27600  \n",
       "929                19700  \n",
       "\n",
       "[930 rows x 8 columns]"
      ]
     },
     "execution_count": 88,
     "metadata": {},
     "output_type": "execute_result"
    }
   ],
   "source": [
    "count_prices"
   ]
  },
  {
   "cell_type": "code",
   "execution_count": 89,
   "metadata": {
    "ExecuteTime": {
     "end_time": "2025-03-04T06:21:23.661593Z",
     "start_time": "2025-03-04T06:21:23.659066Z"
    }
   },
   "outputs": [],
   "source": [
    "count_prices[\"Сумма\"] = count_prices[\"Стоимость, на 1 чел\"] * count_prices[\"Количество проданных путёвок\"]"
   ]
  },
  {
   "cell_type": "code",
   "execution_count": 90,
   "metadata": {
    "ExecuteTime": {
     "end_time": "2025-03-04T06:21:23.704517Z",
     "start_time": "2025-03-04T06:21:23.697911Z"
    }
   },
   "outputs": [
    {
     "data": {
      "text/html": [
       "<div>\n",
       "<style scoped>\n",
       "    .dataframe tbody tr th:only-of-type {\n",
       "        vertical-align: middle;\n",
       "    }\n",
       "\n",
       "    .dataframe tbody tr th {\n",
       "        vertical-align: top;\n",
       "    }\n",
       "\n",
       "    .dataframe thead th {\n",
       "        text-align: right;\n",
       "    }\n",
       "</style>\n",
       "<table border=\"1\" class=\"dataframe\">\n",
       "  <thead>\n",
       "    <tr style=\"text-align: right;\">\n",
       "      <th></th>\n",
       "      <th>ID операции</th>\n",
       "      <th>Дата</th>\n",
       "      <th>ID тура</th>\n",
       "      <th>ID туроператора</th>\n",
       "      <th>Количество проданных путёвок</th>\n",
       "      <th>Город</th>\n",
       "      <th>Продолжительность, дней</th>\n",
       "      <th>Стоимость, на 1 чел</th>\n",
       "      <th>Сумма</th>\n",
       "    </tr>\n",
       "  </thead>\n",
       "  <tbody>\n",
       "    <tr>\n",
       "      <th>0</th>\n",
       "      <td>OP0001</td>\n",
       "      <td>01.01.2022</td>\n",
       "      <td>R1120</td>\n",
       "      <td>T105</td>\n",
       "      <td>15</td>\n",
       "      <td>Кемь</td>\n",
       "      <td>5</td>\n",
       "      <td>17300</td>\n",
       "      <td>259500</td>\n",
       "    </tr>\n",
       "    <tr>\n",
       "      <th>1</th>\n",
       "      <td>OP0008</td>\n",
       "      <td>01.01.2022</td>\n",
       "      <td>R1103</td>\n",
       "      <td>T104</td>\n",
       "      <td>16</td>\n",
       "      <td>Великий Устюг</td>\n",
       "      <td>4</td>\n",
       "      <td>22700</td>\n",
       "      <td>363200</td>\n",
       "    </tr>\n",
       "    <tr>\n",
       "      <th>2</th>\n",
       "      <td>OP0011</td>\n",
       "      <td>01.01.2022</td>\n",
       "      <td>R1118</td>\n",
       "      <td>T102</td>\n",
       "      <td>14</td>\n",
       "      <td>Плесецк</td>\n",
       "      <td>2</td>\n",
       "      <td>7500</td>\n",
       "      <td>105000</td>\n",
       "    </tr>\n",
       "    <tr>\n",
       "      <th>3</th>\n",
       "      <td>OP0018</td>\n",
       "      <td>01.01.2022</td>\n",
       "      <td>R1114</td>\n",
       "      <td>T102</td>\n",
       "      <td>15</td>\n",
       "      <td>Череповец</td>\n",
       "      <td>9</td>\n",
       "      <td>21100</td>\n",
       "      <td>316500</td>\n",
       "    </tr>\n",
       "    <tr>\n",
       "      <th>4</th>\n",
       "      <td>OP0020</td>\n",
       "      <td>01.01.2022</td>\n",
       "      <td>R1114</td>\n",
       "      <td>T104</td>\n",
       "      <td>8</td>\n",
       "      <td>Череповец</td>\n",
       "      <td>9</td>\n",
       "      <td>21100</td>\n",
       "      <td>168800</td>\n",
       "    </tr>\n",
       "    <tr>\n",
       "      <th>...</th>\n",
       "      <td>...</td>\n",
       "      <td>...</td>\n",
       "      <td>...</td>\n",
       "      <td>...</td>\n",
       "      <td>...</td>\n",
       "      <td>...</td>\n",
       "      <td>...</td>\n",
       "      <td>...</td>\n",
       "      <td>...</td>\n",
       "    </tr>\n",
       "    <tr>\n",
       "      <th>925</th>\n",
       "      <td>OP4970</td>\n",
       "      <td>31.03.2022</td>\n",
       "      <td>R1109</td>\n",
       "      <td>T104</td>\n",
       "      <td>18</td>\n",
       "      <td>Няндома</td>\n",
       "      <td>4</td>\n",
       "      <td>8100</td>\n",
       "      <td>145800</td>\n",
       "    </tr>\n",
       "    <tr>\n",
       "      <th>926</th>\n",
       "      <td>OP4972</td>\n",
       "      <td>31.03.2022</td>\n",
       "      <td>R1123</td>\n",
       "      <td>T105</td>\n",
       "      <td>9</td>\n",
       "      <td>Питкяранта</td>\n",
       "      <td>3</td>\n",
       "      <td>15900</td>\n",
       "      <td>143100</td>\n",
       "    </tr>\n",
       "    <tr>\n",
       "      <th>927</th>\n",
       "      <td>OP4973</td>\n",
       "      <td>31.03.2022</td>\n",
       "      <td>R1131</td>\n",
       "      <td>T102</td>\n",
       "      <td>4</td>\n",
       "      <td>Псков</td>\n",
       "      <td>7</td>\n",
       "      <td>20000</td>\n",
       "      <td>80000</td>\n",
       "    </tr>\n",
       "    <tr>\n",
       "      <th>928</th>\n",
       "      <td>OP4985</td>\n",
       "      <td>31.03.2022</td>\n",
       "      <td>R1116</td>\n",
       "      <td>T103</td>\n",
       "      <td>20</td>\n",
       "      <td>Вельск</td>\n",
       "      <td>6</td>\n",
       "      <td>27600</td>\n",
       "      <td>552000</td>\n",
       "    </tr>\n",
       "    <tr>\n",
       "      <th>929</th>\n",
       "      <td>OP4997</td>\n",
       "      <td>31.03.2022</td>\n",
       "      <td>R1126</td>\n",
       "      <td>T103</td>\n",
       "      <td>20</td>\n",
       "      <td>Костомукша</td>\n",
       "      <td>7</td>\n",
       "      <td>19700</td>\n",
       "      <td>394000</td>\n",
       "    </tr>\n",
       "  </tbody>\n",
       "</table>\n",
       "<p>930 rows × 9 columns</p>\n",
       "</div>"
      ],
      "text/plain": [
       "    ID операции        Дата ID тура ID туроператора  \\\n",
       "0        OP0001  01.01.2022   R1120            T105   \n",
       "1        OP0008  01.01.2022   R1103            T104   \n",
       "2        OP0011  01.01.2022   R1118            T102   \n",
       "3        OP0018  01.01.2022   R1114            T102   \n",
       "4        OP0020  01.01.2022   R1114            T104   \n",
       "..          ...         ...     ...             ...   \n",
       "925      OP4970  31.03.2022   R1109            T104   \n",
       "926      OP4972  31.03.2022   R1123            T105   \n",
       "927      OP4973  31.03.2022   R1131            T102   \n",
       "928      OP4985  31.03.2022   R1116            T103   \n",
       "929      OP4997  31.03.2022   R1126            T103   \n",
       "\n",
       "     Количество проданных путёвок          Город  Продолжительность, дней  \\\n",
       "0                              15           Кемь                        5   \n",
       "1                              16  Великий Устюг                        4   \n",
       "2                              14        Плесецк                        2   \n",
       "3                              15      Череповец                        9   \n",
       "4                               8      Череповец                        9   \n",
       "..                            ...            ...                      ...   \n",
       "925                            18        Няндома                        4   \n",
       "926                             9     Питкяранта                        3   \n",
       "927                             4          Псков                        7   \n",
       "928                            20         Вельск                        6   \n",
       "929                            20     Костомукша                        7   \n",
       "\n",
       "     Стоимость, на 1 чел   Сумма  \n",
       "0                  17300  259500  \n",
       "1                  22700  363200  \n",
       "2                   7500  105000  \n",
       "3                  21100  316500  \n",
       "4                  21100  168800  \n",
       "..                   ...     ...  \n",
       "925                 8100  145800  \n",
       "926                15900  143100  \n",
       "927                20000   80000  \n",
       "928                27600  552000  \n",
       "929                19700  394000  \n",
       "\n",
       "[930 rows x 9 columns]"
      ]
     },
     "execution_count": 90,
     "metadata": {},
     "output_type": "execute_result"
    }
   ],
   "source": [
    "count_prices"
   ]
  },
  {
   "cell_type": "code",
   "execution_count": 91,
   "metadata": {
    "ExecuteTime": {
     "end_time": "2025-03-04T06:21:23.766052Z",
     "start_time": "2025-03-04T06:21:23.760627Z"
    }
   },
   "outputs": [
    {
     "name": "stdout",
     "output_type": "stream",
     "text": [
      "<class 'pandas.core.frame.DataFrame'>\n",
      "RangeIndex: 930 entries, 0 to 929\n",
      "Data columns (total 9 columns):\n",
      " #   Column                        Non-Null Count  Dtype \n",
      "---  ------                        --------------  ----- \n",
      " 0   ID операции                   930 non-null    object\n",
      " 1   Дата                          930 non-null    object\n",
      " 2   ID тура                       930 non-null    object\n",
      " 3   ID туроператора               930 non-null    object\n",
      " 4   Количество проданных путёвок  930 non-null    int64 \n",
      " 5   Город                         930 non-null    object\n",
      " 6   Продолжительность, дней       930 non-null    int64 \n",
      " 7   Стоимость, на 1 чел           930 non-null    int64 \n",
      " 8   Сумма                         930 non-null    int64 \n",
      "dtypes: int64(4), object(5)\n",
      "memory usage: 65.5+ KB\n"
     ]
    }
   ],
   "source": [
    "count_prices.info()"
   ]
  },
  {
   "cell_type": "code",
   "execution_count": 92,
   "metadata": {
    "ExecuteTime": {
     "end_time": "2025-03-04T06:21:23.805028Z",
     "start_time": "2025-03-04T06:21:23.802194Z"
    }
   },
   "outputs": [],
   "source": [
    "groups = count_prices.groupby(\"ID туроператора\")[\"Сумма\"].sum()"
   ]
  },
  {
   "cell_type": "code",
   "execution_count": 93,
   "metadata": {
    "ExecuteTime": {
     "end_time": "2025-03-04T06:21:23.839181Z",
     "start_time": "2025-03-04T06:21:23.836497Z"
    }
   },
   "outputs": [],
   "source": [
    "renamed_groups = pd.DataFrame(groups.rename(index=agents_names)).reset_index()"
   ]
  },
  {
   "cell_type": "code",
   "execution_count": 94,
   "metadata": {
    "ExecuteTime": {
     "end_time": "2025-03-04T06:21:23.908441Z",
     "start_time": "2025-03-04T06:21:23.904685Z"
    }
   },
   "outputs": [
    {
     "data": {
      "text/html": [
       "<div>\n",
       "<style scoped>\n",
       "    .dataframe tbody tr th:only-of-type {\n",
       "        vertical-align: middle;\n",
       "    }\n",
       "\n",
       "    .dataframe tbody tr th {\n",
       "        vertical-align: top;\n",
       "    }\n",
       "\n",
       "    .dataframe thead th {\n",
       "        text-align: right;\n",
       "    }\n",
       "</style>\n",
       "<table border=\"1\" class=\"dataframe\">\n",
       "  <thead>\n",
       "    <tr style=\"text-align: right;\">\n",
       "      <th></th>\n",
       "      <th>ID туроператора</th>\n",
       "      <th>Сумма</th>\n",
       "    </tr>\n",
       "  </thead>\n",
       "  <tbody>\n",
       "    <tr>\n",
       "      <th>0</th>\n",
       "      <td>Традиции</td>\n",
       "      <td>39389800</td>\n",
       "    </tr>\n",
       "    <tr>\n",
       "      <th>1</th>\n",
       "      <td>Иллюзия</td>\n",
       "      <td>40601500</td>\n",
       "    </tr>\n",
       "    <tr>\n",
       "      <th>2</th>\n",
       "      <td>Даль</td>\n",
       "      <td>48916600</td>\n",
       "    </tr>\n",
       "    <tr>\n",
       "      <th>3</th>\n",
       "      <td>Восторг</td>\n",
       "      <td>40990700</td>\n",
       "    </tr>\n",
       "  </tbody>\n",
       "</table>\n",
       "</div>"
      ],
      "text/plain": [
       "  ID туроператора     Сумма\n",
       "0        Традиции  39389800\n",
       "1         Иллюзия  40601500\n",
       "2            Даль  48916600\n",
       "3         Восторг  40990700"
      ]
     },
     "execution_count": 94,
     "metadata": {},
     "output_type": "execute_result"
    }
   ],
   "source": [
    "renamed_groups"
   ]
  },
  {
   "cell_type": "code",
   "execution_count": 95,
   "metadata": {
    "ExecuteTime": {
     "end_time": "2025-03-04T06:21:23.969856Z",
     "start_time": "2025-03-04T06:21:23.965977Z"
    }
   },
   "outputs": [
    {
     "name": "stdout",
     "output_type": "stream",
     "text": [
      "<class 'pandas.core.frame.DataFrame'>\n",
      "RangeIndex: 4 entries, 0 to 3\n",
      "Data columns (total 2 columns):\n",
      " #   Column           Non-Null Count  Dtype \n",
      "---  ------           --------------  ----- \n",
      " 0   ID туроператора  4 non-null      object\n",
      " 1   Сумма            4 non-null      int64 \n",
      "dtypes: int64(1), object(1)\n",
      "memory usage: 196.0+ bytes\n"
     ]
    }
   ],
   "source": [
    "renamed_groups.info()"
   ]
  },
  {
   "cell_type": "code",
   "execution_count": 96,
   "metadata": {
    "ExecuteTime": {
     "end_time": "2025-03-04T06:21:24.097680Z",
     "start_time": "2025-03-04T06:21:24.008987Z"
    }
   },
   "outputs": [
    {
     "data": {
      "text/plain": [
       "<Axes: xlabel='ID туроператора'>"
      ]
     },
     "execution_count": 96,
     "metadata": {},
     "output_type": "execute_result"
    },
    {
     "data": {
      "image/png": "[encoded data removed]",
      "text/plain": [
       "<Figure size 1000x600 with 1 Axes>"
      ]
     },
     "metadata": {},
     "output_type": "display_data"
    }
   ],
   "source": [
    "renamed_groups.plot.bar(\n",
    "\tx=\"ID туроператора\",\n",
    "\ty=\"Сумма\",\n",
    "  figsize=(10, 6)\n",
    ")"
   ]
  }
 ],
 "metadata": {
  "kernelspec": {
   "display_name": "photo_nn_env",
   "language": "python",
   "name": "photo_nn_env"
  },
  "language_info": {
   "codemirror_mode": {
    "name": "ipython",
    "version": 3
   },
   "file_extension": ".py",
   "mimetype": "text/x-python",
   "name": "python",
   "nbconvert_exporter": "python",
   "pygments_lexer": "ipython3",
   "version": "3.11.11"
  }
 },
 "nbformat": 4,
 "nbformat_minor": 2
}
